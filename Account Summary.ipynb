{
 "cells": [
  {
   "cell_type": "markdown",
   "metadata": {},
   "source": [
    "## Requirements\n",
    "* monthly income/expenditure over time\n",
    "* quarterly income breakdown\n",
    "* quarterly expenditure breakdown\n",
    "* descriptions that mention drugs\n",
    "* machine learning to categorise transactions"
   ]
  },
  {
   "cell_type": "code",
   "execution_count": 4,
   "metadata": {},
   "outputs": [],
   "source": [
    "import pandas as pd\n",
    "import numpy as np\n",
    "import matplotlib.pyplot as plt\n",
    "import seaborn as sns\n",
    "import plotly.graph_objects as go"
   ]
  },
  {
   "cell_type": "code",
   "execution_count": 18,
   "metadata": {},
   "outputs": [
    {
     "data": {
      "text/plain": [
       "date           datetime64[ns]\n",
       "amount                float64\n",
       "description            object\n",
       "balance               float64\n",
       "dtype: object"
      ]
     },
     "execution_count": 18,
     "metadata": {},
     "output_type": "execute_result"
    }
   ],
   "source": [
    "data = pd.read_csv(\"administration/CSVData.csv\", header=None)\n",
    "data.columns = [\"date\", \"amount\", \"description\", \"balance\"]\n",
    "data['date']  = pd.to_datetime(data['date'], format='%d/%m/%Y')\n",
    "data = data.astype({'amount':'float', 'balance':'float'})"
   ]
  },
  {
   "cell_type": "code",
   "execution_count": 4,
   "metadata": {},
   "outputs": [],
   "source": [
    "# Remove transfers between my own accounts\n",
    "data = data[~data[\"description\"].str.contains('(?=.*transfer).*(?=.*xx4138)', case=False, regex=True)]\n",
    "data = data[~data[\"description\"].str.contains('(?=.*transfer).*(?=.*xx9333)', case=False, regex=True)]\n",
    "\n",
    "credit = data[data.amount > 0]\n",
    "debit = data[data.amount < 0]"
   ]
  },
  {
   "cell_type": "code",
   "execution_count": 33,
   "metadata": {},
   "outputs": [
    {
     "data": {
      "text/plain": [
       "Text(0, 0.5, 'amount ($)')"
      ]
     },
     "execution_count": 33,
     "metadata": {},
     "output_type": "execute_result"
    },
    {
     "data": {
      "image/png": "[encoded data removed]",
      "text/plain": [
       "<Figure size 432x288 with 1 Axes>"
      ]
     },
     "metadata": {
      "needs_background": "light"
     },
     "output_type": "display_data"
    }
   ],
   "source": [
    "credit.index = pd.to_datetime(credit['date'],format='%d/%m/%Y %I:%M%p')\n",
    "debit.index = pd.to_datetime(debit['date'],format='%d/%m/%Y %I:%M%p')\n",
    "monthly_credit = credit.groupby(by=[credit.index.month, credit.index.year]).sum()\n",
    "monthly_debit = debit.groupby(by=[debit.index.month, debit.index.year]).sum()\n",
    "monthly_credit.index.names = ['month', 'year']\n",
    "monthly_debit.index.names = ['month', 'year']\n",
    "monthly_summary = monthly_credit.join(monthly_debit, on=[\"month\", \"year\"], lsuffix=\"_credit\")\n",
    "monthly_summary = monthly_summary.drop(['balance_credit', 'balance'], axis=1)\n",
    "monthly_summary.columns = ['credit', 'debit']\n",
    "monthly_summary[\"net\"] = monthly_summary.credit + monthly_summary.debit\n",
    "\n",
    "monthly_summary.reset_index(level=0, inplace=True)\n",
    "monthly_summary.reset_index(level=0, inplace=True)\n",
    "monthly_summary.columns = ['y', 'm', 'credit', 'debit', 'net']\n",
    "\n",
    "def concat(y, m):\n",
    "    if len(str(m)) == 1:\n",
    "        return str(y)+\"-0\"+str(m) \n",
    "    else:\n",
    "        return str(y)+\"-\"+str(m)\n",
    "\n",
    "monthly_summary[\"month\"] = [concat(y, m) for y, m in zip(monthly_summary.y, monthly_summary.m)]\n",
    "\n",
    "# monthly_summary = monthly_summary.drop(['y', 'm'], axis=1)\n",
    "monthly_summary = monthly_summary.sort_values('month').reset_index()\n",
    "\n",
    "monthly_summary = pd.melt(monthly_summary, id_vars=[\"month\"], value_vars=['debit', 'credit'])\n",
    "\n",
    "my_pal = {'debit':'red', 'credit':'lightgreen'}\n",
    "\n",
    "monthly_summary.columns = [\"month\", 'type', 'amount']\n",
    "\n",
    "monthly_chart = sns.barplot(x=\"month\", y=abs(monthly_summary.amount), hue=\"type\", data=monthly_summary, palette=my_pal)\n",
    "monthly_chart.set_xticklabels(monthly_chart.get_xticklabels(), rotation=45)\n",
    "monthly_chart.set_title(\"Monthly account summary\")\n",
    "monthly_chart.set_ylabel(\"amount ($)\")\n"
   ]
  },
  {
   "cell_type": "code",
   "execution_count": 82,
   "metadata": {},
   "outputs": [
    {
     "name": "stdout",
     "output_type": "stream",
     "text": [
      "Total credit: 18347.62\n",
      "Total debit: -13892.73\n",
      "Net position: 4454.89\n"
     ]
    }
   ],
   "source": [
    "total_credit = monthly_summary[monthly_summary.type == 'credit'].amount.sum()\n",
    "\n",
    "total_debit = monthly_summary[monthly_summary.type == 'debit'].amount.sum()\n",
    "print( \"Total credit:\", round(total_credit,2))\n",
    "print( \"Total debit:\", round(total_debit,2))\n",
    "print( \"Net position:\", round(total_credit + total_debit, 2))"
   ]
  },
  {
   "cell_type": "code",
   "execution_count": 79,
   "metadata": {},
   "outputs": [
    {
     "data": {
      "text/plain": [
       "Text(0, 0.5, 'amount ($)')"
      ]
     },
     "execution_count": 79,
     "metadata": {},
     "output_type": "execute_result"
    },
    {
     "data": {
      "image/png": "[encoded data removed]",
      "text/plain": [
       "<Figure size 432x288 with 1 Axes>"
      ]
     },
     "metadata": {
      "needs_background": "light"
     },
     "output_type": "display_data"
    }
   ],
   "source": [
    "\n",
    "sum_monthly_summary = monthly_summary.groupby('month').sum()\n",
    "sum_monthly_summary.reset_index(level=0, inplace=True)\n",
    "\n",
    "pal = {}\n",
    "for month, amount in zip(sum_monthly_summary.month, sum_monthly_summary.amount):\n",
    "    if amount>0:\n",
    "        pal[month] = \"lightgreen\"\n",
    "    else:\n",
    "        pal[month] = \"r\"\n",
    "\n",
    "net_monthly_chart = sns.barplot(x=\"month\", y=sum_monthly_summary.amount, data=sum_monthly_summary, palette=pal)\n",
    "net_monthly_chart.axhline(ls='--', color=\"k\")\n",
    "net_monthly_chart.set_xticklabels(net_monthly_chart.get_xticklabels(), rotation=45)\n",
    "net_monthly_chart.set_title(\"Net monthly income\")\n",
    "net_monthly_chart.set_ylabel(\"amount ($)\")\n"
   ]
  },
  {
   "cell_type": "code",
   "execution_count": 41,
   "metadata": {},
   "outputs": [],
   "source": [
    "# isolate potential tutoring entries\n",
    "tutoring = data[data[\"amount\"]%50==0]\n",
    "tutoring = tutoring[tutoring[\"amount\"] > 0]\n",
    "# categorise entries\n",
    "person = []\n",
    "i = 0\n",
    "for row in tutoring.values:\n",
    "    if \"mclean\" in row[2].lower():\n",
    "        person.append(\"cameron\")\n",
    "    elif \"jones\" in row[2].lower():\n",
    "        person.append(\"ben\")\n",
    "    elif \"jorg\" in row[2].lower():\n",
    "        person.append(\"izzy\")\n",
    "    elif \"PADDY\" in row[2].upper() or \"WALSH\" in row[2].upper():\n",
    "        person.append(\"paddy\")\n",
    "    elif \"hartley\" in row[2].lower():\n",
    "        person.append(\"brady\")\n",
    "    elif \"boddington\" in row[2].lower():\n",
    "        person.append(\"tyler\")\n",
    "    else:\n",
    "        person.append(\"unknown\")\n",
    "    i += 0\n",
    "    \n",
    "tutoring[\"person\"] = person\n",
    "\n",
    "# remove unknowns\n",
    "tutoring = tutoring[tutoring.person != \"unknown\"]\n",
    "tutoring.to_csv(\"tutoring.csv\")\n",
    "\n",
    "latest_tut = pd.DataFrame(columns=tutoring.columns)\n",
    "\n",
    "# print(list(latest_check.keys()))\n",
    "zeros = [0 for i in range(6)]\n",
    "\n",
    "blanks = pd.DataFrame({\"date\":[date for i in range(len(latest_check))],\n",
    "                      \"amount\":[0 for i in range(6)],\n",
    "                      \"description\": [\"\" for i in range(6)],\n",
    "                      \"balance\": [0 for i in range(6)],\n",
    "                      \"person\": list(latest_check.keys())})\n",
    "latest_tut = latest_tut.append(blanks)\n",
    "latest_tut"
   ]
  },
  {
   "cell_type": "code",
   "execution_count": 50,
   "metadata": {},
   "outputs": [
    {
     "data": {
      "text/html": [
       "<div>\n",
       "<style scoped>\n",
       "    .dataframe tbody tr th:only-of-type {\n",
       "        vertical-align: middle;\n",
       "    }\n",
       "\n",
       "    .dataframe tbody tr th {\n",
       "        vertical-align: top;\n",
       "    }\n",
       "\n",
       "    .dataframe thead th {\n",
       "        text-align: right;\n",
       "    }\n",
       "</style>\n",
       "<table border=\"1\" class=\"dataframe\">\n",
       "  <thead>\n",
       "    <tr style=\"text-align: right;\">\n",
       "      <th></th>\n",
       "      <th>person</th>\n",
       "      <th>variable</th>\n",
       "      <th>value</th>\n",
       "    </tr>\n",
       "  </thead>\n",
       "  <tbody>\n",
       "    <tr>\n",
       "      <th>0</th>\n",
       "      <td>ben</td>\n",
       "      <td>payments</td>\n",
       "      <td>0.0</td>\n",
       "    </tr>\n",
       "    <tr>\n",
       "      <th>1</th>\n",
       "      <td>brady</td>\n",
       "      <td>payments</td>\n",
       "      <td>0.0</td>\n",
       "    </tr>\n",
       "    <tr>\n",
       "      <th>2</th>\n",
       "      <td>cameron</td>\n",
       "      <td>payments</td>\n",
       "      <td>0.0</td>\n",
       "    </tr>\n",
       "    <tr>\n",
       "      <th>3</th>\n",
       "      <td>izzy</td>\n",
       "      <td>payments</td>\n",
       "      <td>0.0</td>\n",
       "    </tr>\n",
       "    <tr>\n",
       "      <th>4</th>\n",
       "      <td>paddy</td>\n",
       "      <td>payments</td>\n",
       "      <td>0.0</td>\n",
       "    </tr>\n",
       "    <tr>\n",
       "      <th>5</th>\n",
       "      <td>tyler</td>\n",
       "      <td>payments</td>\n",
       "      <td>0.0</td>\n",
       "    </tr>\n",
       "    <tr>\n",
       "      <th>6</th>\n",
       "      <td>ben</td>\n",
       "      <td>payable</td>\n",
       "      <td>0.0</td>\n",
       "    </tr>\n",
       "    <tr>\n",
       "      <th>7</th>\n",
       "      <td>brady</td>\n",
       "      <td>payable</td>\n",
       "      <td>0.0</td>\n",
       "    </tr>\n",
       "    <tr>\n",
       "      <th>8</th>\n",
       "      <td>cameron</td>\n",
       "      <td>payable</td>\n",
       "      <td>0.0</td>\n",
       "    </tr>\n",
       "    <tr>\n",
       "      <th>9</th>\n",
       "      <td>izzy</td>\n",
       "      <td>payable</td>\n",
       "      <td>1.0</td>\n",
       "    </tr>\n",
       "    <tr>\n",
       "      <th>10</th>\n",
       "      <td>paddy</td>\n",
       "      <td>payable</td>\n",
       "      <td>2.0</td>\n",
       "    </tr>\n",
       "    <tr>\n",
       "      <th>11</th>\n",
       "      <td>tyler</td>\n",
       "      <td>payable</td>\n",
       "      <td>3.0</td>\n",
       "    </tr>\n",
       "  </tbody>\n",
       "</table>\n",
       "</div>"
      ],
      "text/plain": [
       "     person  variable  value\n",
       "0       ben  payments    0.0\n",
       "1     brady  payments    0.0\n",
       "2   cameron  payments    0.0\n",
       "3      izzy  payments    0.0\n",
       "4     paddy  payments    0.0\n",
       "5     tyler  payments    0.0\n",
       "6       ben   payable    0.0\n",
       "7     brady   payable    0.0\n",
       "8   cameron   payable    0.0\n",
       "9      izzy   payable    1.0\n",
       "10    paddy   payable    2.0\n",
       "11    tyler   payable    3.0"
      ]
     },
     "execution_count": 50,
     "metadata": {},
     "output_type": "execute_result"
    }
   ],
   "source": [
    "    \n",
    "latest_tut_sum = latest_tut.groupby(['person']).sum().drop({\"balance\"}, axis=1).reset_index()\n",
    "latest_tut_sum = latest_tut_sum[['person', 'amount']]\n",
    "latest_tut_sum.columns = ['person', 'payments']\n",
    "latest_tut_sum = latest_tut_sum.sort_values(by=\"person\")\n",
    "latest_tut_sum.payments = latest_tut_sum.payments/50\n",
    "latest_tut_sum['payable'] = [x for x in owings.values()]\n",
    "\n",
    "latest_tut_sum = pd.melt(latest_tut_sum, id_vars=[\"person\"], value_vars=['payments', 'payable'])\n",
    "latest_tut_sum"
   ]
  },
  {
   "cell_type": "code",
   "execution_count": 9,
   "metadata": {},
   "outputs": [
    {
     "data": {
      "image/png": "[encoded data removed]",
      "text/plain": [
       "<Figure size 432x288 with 1 Axes>"
      ]
     },
     "metadata": {
      "needs_background": "light"
     },
     "output_type": "display_data"
    }
   ],
   "source": [
    "\n",
    "\n",
    "\n",
    "sessions = tutoring.groupby(['person']).sum().drop({\"balance\"}, axis=1).reset_index()\n",
    "sessions.columns = [\"person\", \"sessions\"]\n",
    "sessions.sessions = sessions.sessions/50\n",
    "\n",
    "p = sns.barplot(data=sessions, x=\"person\", y=\"sessions\")\n",
    "\n",
    "for index, row in sessions.iterrows():\n",
    "    p.text(row.name, row.sessions + 0.05, round(row.sessions,0), color='black', ha=\"center\")\n"
   ]
  },
  {
   "cell_type": "code",
   "execution_count": 10,
   "metadata": {},
   "outputs": [
    {
     "name": "stdout",
     "output_type": "stream",
     "text": [
      "{'ben': Timestamp('2020-05-14 00:00:00'), 'brady': Timestamp('2020-03-26 00:00:00'), 'cameron': Timestamp('2020-05-15 00:00:00'), 'izzy': Timestamp('2020-05-09 00:00:00'), 'paddy': Timestamp('2020-05-11 00:00:00'), 'tyler': Timestamp('2020-04-20 00:00:00')}\n"
     ]
    }
   ],
   "source": [
    "# Most recent payment dates per person\n",
    "dates = tutoring.groupby(['person']).max().drop({\"balance\", \"amount\", 'description'}, axis=1).to_dict()\n",
    "\n",
    "dates = dates['date']\n",
    "print(dates)"
   ]
  },
  {
   "cell_type": "code",
   "execution_count": null,
   "metadata": {},
   "outputs": [],
   "source": []
  },
  {
   "cell_type": "code",
   "execution_count": null,
   "metadata": {},
   "outputs": [],
   "source": []
  }
 ],
 "metadata": {
  "kernelspec": {
   "display_name": "Python 3",
   "language": "python",
   "name": "python3"
  },
  "language_info": {
   "codemirror_mode": {
    "name": "ipython",
    "version": 3
   },
   "file_extension": ".py",
   "mimetype": "text/x-python",
   "name": "python",
   "nbconvert_exporter": "python",
   "pygments_lexer": "ipython3",
   "version": "3.7.3"
  }
 },
 "nbformat": 4,
 "nbformat_minor": 2
}
